{
  "nbformat": 4,
  "nbformat_minor": 0,
  "metadata": {
    "colab": {
      "name": "Hummingbird",
      "provenance": [],
      "authorship_tag": "ABX9TyM8FHixFKEOGtSg0OFtN8Mx",
      "include_colab_link": true
    },
    "kernelspec": {
      "name": "python3",
      "display_name": "Python 3"
    },
    "language_info": {
      "name": "python"
    },
    "accelerator": "GPU"
  },
  "cells": [
    {
      "cell_type": "markdown",
      "metadata": {
        "id": "view-in-github",
        "colab_type": "text"
      },
      "source": [
        "<a href=\"https://colab.research.google.com/github/swarnava-96/Converting-ML-models-into-Pytorch/blob/main/Hummingbird.ipynb\" target=\"_parent\"><img src=\"https://colab.research.google.com/assets/colab-badge.svg\" alt=\"Open In Colab\"/></a>"
      ]
    },
    {
      "cell_type": "markdown",
      "metadata": {
        "id": "vS4TyC7WkyUI"
      },
      "source": [
        "# **Converting traditional ML model into Pytorch**\n",
        "In this notebook, I will convert a traditional ML model(Random Forest Classifier) into a DL model(Pytorch) with the help of Hummingbird from Microsoft."
      ]
    },
    {
      "cell_type": "code",
      "metadata": {
        "colab": {
          "base_uri": "https://localhost:8080/"
        },
        "id": "deM8EsDwkyw5",
        "outputId": "cfe1b651-6040-483d-9f58-c2f6f99dda20"
      },
      "source": [
        "!pip install hummingbird-ml"
      ],
      "execution_count": 1,
      "outputs": [
        {
          "output_type": "stream",
          "name": "stdout",
          "text": [
            "Collecting hummingbird-ml\n",
            "  Downloading hummingbird_ml-0.4.1-py2.py3-none-any.whl (180 kB)\n",
            "\u001b[K     |████████████████████████████████| 180 kB 4.4 MB/s \n",
            "\u001b[?25hRequirement already satisfied: scikit-learn>=0.21.3 in /usr/local/lib/python3.7/dist-packages (from hummingbird-ml) (0.22.2.post1)\n",
            "Requirement already satisfied: psutil in /usr/local/lib/python3.7/dist-packages (from hummingbird-ml) (5.4.8)\n",
            "Requirement already satisfied: scipy in /usr/local/lib/python3.7/dist-packages (from hummingbird-ml) (1.4.1)\n",
            "Collecting onnxconverter-common>=1.6.0\n",
            "  Downloading onnxconverter_common-1.8.1-py2.py3-none-any.whl (77 kB)\n",
            "\u001b[K     |████████████████████████████████| 77 kB 6.3 MB/s \n",
            "\u001b[?25hRequirement already satisfied: torch>=1.4 in /usr/local/lib/python3.7/dist-packages (from hummingbird-ml) (1.9.0+cu102)\n",
            "Requirement already satisfied: dill in /usr/local/lib/python3.7/dist-packages (from hummingbird-ml) (0.3.4)\n",
            "Requirement already satisfied: numpy>=1.15 in /usr/local/lib/python3.7/dist-packages (from hummingbird-ml) (1.19.5)\n",
            "Requirement already satisfied: protobuf in /usr/local/lib/python3.7/dist-packages (from onnxconverter-common>=1.6.0->hummingbird-ml) (3.17.3)\n",
            "Collecting onnx\n",
            "  Downloading onnx-1.10.1-cp37-cp37m-manylinux_2_12_x86_64.manylinux2010_x86_64.whl (12.3 MB)\n",
            "\u001b[K     |████████████████████████████████| 12.3 MB 174 kB/s \n",
            "\u001b[?25hRequirement already satisfied: joblib>=0.11 in /usr/local/lib/python3.7/dist-packages (from scikit-learn>=0.21.3->hummingbird-ml) (1.0.1)\n",
            "Requirement already satisfied: typing-extensions in /usr/local/lib/python3.7/dist-packages (from torch>=1.4->hummingbird-ml) (3.7.4.3)\n",
            "Requirement already satisfied: six in /usr/local/lib/python3.7/dist-packages (from onnx->onnxconverter-common>=1.6.0->hummingbird-ml) (1.15.0)\n",
            "Installing collected packages: onnx, onnxconverter-common, hummingbird-ml\n",
            "Successfully installed hummingbird-ml-0.4.1 onnx-1.10.1 onnxconverter-common-1.8.1\n"
          ]
        }
      ]
    },
    {
      "cell_type": "code",
      "metadata": {
        "id": "yNgArU4Mk7Me"
      },
      "source": [
        "# Importing the necessary libraries\n",
        "import numpy as np\n",
        "from sklearn.ensemble import RandomForestClassifier\n",
        "from hummingbird.ml import convert"
      ],
      "execution_count": 2,
      "outputs": []
    },
    {
      "cell_type": "code",
      "metadata": {
        "id": "y9lw99Y6lhEO"
      },
      "source": [
        "# Lets create some data points for binary classification\n",
        "num_classes = 2\n",
        "X = np.array(np.random.rand(100000,28), dtype = np.float32)\n",
        "y = np.random.randint(num_classes, size = 100000)"
      ],
      "execution_count": 3,
      "outputs": []
    },
    {
      "cell_type": "code",
      "metadata": {
        "colab": {
          "base_uri": "https://localhost:8080/"
        },
        "id": "82mCcbyqnia5",
        "outputId": "a1c9057b-bcc1-4357-afd5-0cf91d911686"
      },
      "source": [
        "# Lets check our X data\n",
        "X"
      ],
      "execution_count": 4,
      "outputs": [
        {
          "output_type": "execute_result",
          "data": {
            "text/plain": [
              "array([[0.61494046, 0.4180565 , 0.63934344, ..., 0.551573  , 0.5600344 ,\n",
              "        0.7135139 ],\n",
              "       [0.88244116, 0.15880919, 0.08133683, ..., 0.01519105, 0.82472444,\n",
              "        0.03009022],\n",
              "       [0.3776252 , 0.41680557, 0.2869728 , ..., 0.9680885 , 0.82073087,\n",
              "        0.10823639],\n",
              "       ...,\n",
              "       [0.441013  , 0.8563754 , 0.6001373 , ..., 0.07417203, 0.996689  ,\n",
              "        0.32608002],\n",
              "       [0.46796006, 0.8478838 , 0.16440871, ..., 0.88677835, 0.95245343,\n",
              "        0.38360485],\n",
              "       [0.865953  , 0.6244491 , 0.24815837, ..., 0.4363368 , 0.65684164,\n",
              "        0.12459034]], dtype=float32)"
            ]
          },
          "metadata": {},
          "execution_count": 4
        }
      ]
    },
    {
      "cell_type": "code",
      "metadata": {
        "colab": {
          "base_uri": "https://localhost:8080/"
        },
        "id": "M3UUe551noSK",
        "outputId": "7a8db462-ce03-4971-ca6a-dc29e7ee4fc9"
      },
      "source": [
        "# Lets check our y data\n",
        "y"
      ],
      "execution_count": 5,
      "outputs": [
        {
          "output_type": "execute_result",
          "data": {
            "text/plain": [
              "array([0, 0, 0, ..., 0, 0, 0])"
            ]
          },
          "metadata": {},
          "execution_count": 5
        }
      ]
    },
    {
      "cell_type": "code",
      "metadata": {
        "colab": {
          "base_uri": "https://localhost:8080/"
        },
        "id": "BbkUjn0zmSdt",
        "outputId": "13688e8b-819b-46b0-da8c-4729cf0c7903"
      },
      "source": [
        "# Model Training\n",
        "skl_model = RandomForestClassifier(n_estimators = 10, max_depth = 10)\n",
        "skl_model.fit(X,y)"
      ],
      "execution_count": 6,
      "outputs": [
        {
          "output_type": "execute_result",
          "data": {
            "text/plain": [
              "RandomForestClassifier(bootstrap=True, ccp_alpha=0.0, class_weight=None,\n",
              "                       criterion='gini', max_depth=10, max_features='auto',\n",
              "                       max_leaf_nodes=None, max_samples=None,\n",
              "                       min_impurity_decrease=0.0, min_impurity_split=None,\n",
              "                       min_samples_leaf=1, min_samples_split=2,\n",
              "                       min_weight_fraction_leaf=0.0, n_estimators=10,\n",
              "                       n_jobs=None, oob_score=False, random_state=None,\n",
              "                       verbose=0, warm_start=False)"
            ]
          },
          "metadata": {},
          "execution_count": 6
        }
      ]
    },
    {
      "cell_type": "code",
      "metadata": {
        "id": "P251_L97ns2f"
      },
      "source": [
        "# Lets use Hummingbird to convert the model \n",
        "model = convert(skl_model, 'pytorch')"
      ],
      "execution_count": 7,
      "outputs": []
    },
    {
      "cell_type": "code",
      "metadata": {
        "colab": {
          "base_uri": "https://localhost:8080/"
        },
        "id": "QqCVD6GKoGAP",
        "outputId": "3a04194e-0305-4adc-e934-cada49cf17e7"
      },
      "source": [
        "# Using CPU - default\n",
        "%%timeit -r 3\n",
        "model.predict(X)"
      ],
      "execution_count": 8,
      "outputs": [
        {
          "output_type": "stream",
          "name": "stdout",
          "text": [
            "1 loop, best of 3: 166 ms per loop\n"
          ]
        }
      ]
    },
    {
      "cell_type": "code",
      "metadata": {
        "colab": {
          "base_uri": "https://localhost:8080/"
        },
        "id": "SiF5vkrIocRZ",
        "outputId": "07d2c6b5-49d4-44d7-a19e-865286bafaa6"
      },
      "source": [
        "# Using GPU\n",
        "%%timeit -r 3\n",
        "model.to(\"cuda\")\n",
        "model.predict(X)"
      ],
      "execution_count": 10,
      "outputs": [
        {
          "output_type": "stream",
          "name": "stdout",
          "text": [
            "100 loops, best of 3: 12.1 ms per loop\n"
          ]
        }
      ]
    }
  ]
}